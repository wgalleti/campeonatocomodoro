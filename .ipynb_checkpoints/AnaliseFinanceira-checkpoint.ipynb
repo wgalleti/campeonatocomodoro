{
 "cells": [
  {
   "cell_type": "code",
   "execution_count": null,
   "metadata": {},
   "outputs": [],
   "source": [
    "import pandas as pd\n",
    "import numpy as np\n",
    "from django_pandas.io import read_frame\n",
    "\n",
    "dados = Inscricao.objects.all()\n",
    "total = Inscricao.objects.total_pago()\n",
    "df = read_frame(dados, fieldnames=['data', \n",
    "                                   'atleta', \n",
    "                                   'atleta__faixa', \n",
    "                                   'atleta__academia', \n",
    "                                   'atleta__sexo',\n",
    "                                   'categoria_peso', \n",
    "                                   'valor', \n",
    "                                   'valor_absoluto', \n",
    "                                   'categoria_idade'])\n",
    "df['valor_total'] = df.apply(lambda x : x['valor'] + x['valor_absoluto'], axis=1)\n",
    "df['qtd'] = df.apply(lambda x : 1, axis=1)"
   ]
  },
  {
   "cell_type": "code",
   "execution_count": null,
   "metadata": {},
   "outputs": [],
   "source": [
    "pv = df.pivot_table(index=['atleta__academia', 'atleta__sexo'], \n",
    "                    columns=['categoria_peso'], \n",
    "                    values=['valor_total'], \n",
    "                    aggfunc=np.sum, \n",
    "                    fill_value=0,\n",
    "                    margins=True,\n",
    "                   )\n",
    "pv"
   ]
  },
  {
   "cell_type": "code",
   "execution_count": null,
   "metadata": {},
   "outputs": [],
   "source": [
    "pvt = df.pivot_table(index=['atleta__academia'], columns=['atleta__sexo'], values=['qtd'], aggfunc=np.sum, fill_value=0, margins=True)\n",
    "pvt"
   ]
  }
 ],
 "metadata": {
  "kernelspec": {
   "display_name": "Django Shell-Plus",
   "language": "python",
   "name": "django_extensions"
  },
  "language_info": {
   "codemirror_mode": {
    "name": "ipython",
    "version": 3
   },
   "file_extension": ".py",
   "mimetype": "text/x-python",
   "name": "python",
   "nbconvert_exporter": "python",
   "pygments_lexer": "ipython3",
   "version": "3.5.3"
  }
 },
 "nbformat": 4,
 "nbformat_minor": 2
}
