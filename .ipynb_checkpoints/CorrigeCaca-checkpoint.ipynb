{
 "cells": [
  {
   "cell_type": "code",
   "execution_count": 12,
   "metadata": {},
   "outputs": [],
   "source": [
    "a = Inscricao.objects.all()"
   ]
  },
  {
   "cell_type": "code",
   "execution_count": 15,
   "metadata": {},
   "outputs": [],
   "source": [
    "def categoria_idade(idade):\n",
    "    lista = [\n",
    "        dict(id=1, limite=6),\n",
    "        dict(id=2, limite=9),\n",
    "        dict(id=3, limite=12),\n",
    "        dict(id=4, limite=15),\n",
    "        dict(id=7, limite=17),\n",
    "        dict(id=5, limite=29),\n",
    "        dict(id=6, limite=100)\n",
    "    ]\n",
    "    \n",
    "    for row in lista:\n",
    "        if idade <= row['limite']:\n",
    "            return row['id']\n",
    "\n",
    "for row in a:\n",
    "\n",
    "    check = categoria_idade(row.atleta.idade)\n",
    "    row.categoria_idade = check\n",
    "    row.save()"
   ]
  },
  {
   "cell_type": "code",
   "execution_count": 18,
   "metadata": {},
   "outputs": [
    {
     "data": {
      "text/html": [
       "<div>\n",
       "<style>\n",
       "    .dataframe thead tr:only-child th {\n",
       "        text-align: right;\n",
       "    }\n",
       "\n",
       "    .dataframe thead th {\n",
       "        text-align: left;\n",
       "    }\n",
       "\n",
       "    .dataframe tbody tr th {\n",
       "        vertical-align: top;\n",
       "    }\n",
       "</style>\n",
       "<table border=\"1\" class=\"dataframe\">\n",
       "  <thead>\n",
       "    <tr style=\"text-align: right;\">\n",
       "      <th></th>\n",
       "      <th>valor</th>\n",
       "    </tr>\n",
       "    <tr>\n",
       "      <th>categoria_idade</th>\n",
       "      <th></th>\n",
       "    </tr>\n",
       "  </thead>\n",
       "  <tbody>\n",
       "    <tr>\n",
       "      <th>Adulto</th>\n",
       "      <td>56.0</td>\n",
       "    </tr>\n",
       "    <tr>\n",
       "      <th>Infantil</th>\n",
       "      <td>18.0</td>\n",
       "    </tr>\n",
       "    <tr>\n",
       "      <th>Infanto Juvenil</th>\n",
       "      <td>15.0</td>\n",
       "    </tr>\n",
       "    <tr>\n",
       "      <th>Juvenil</th>\n",
       "      <td>5.0</td>\n",
       "    </tr>\n",
       "    <tr>\n",
       "      <th>Master</th>\n",
       "      <td>43.0</td>\n",
       "    </tr>\n",
       "    <tr>\n",
       "      <th>Mirin</th>\n",
       "      <td>20.0</td>\n",
       "    </tr>\n",
       "    <tr>\n",
       "      <th>Pré-Mirin</th>\n",
       "      <td>4.0</td>\n",
       "    </tr>\n",
       "    <tr>\n",
       "      <th>All</th>\n",
       "      <td>161.0</td>\n",
       "    </tr>\n",
       "  </tbody>\n",
       "</table>\n",
       "</div>"
      ],
      "text/plain": [
       "                 valor\n",
       "categoria_idade       \n",
       "Adulto            56.0\n",
       "Infantil          18.0\n",
       "Infanto Juvenil   15.0\n",
       "Juvenil            5.0\n",
       "Master            43.0\n",
       "Mirin             20.0\n",
       "Pré-Mirin          4.0\n",
       "All              161.0"
      ]
     },
     "execution_count": 18,
     "metadata": {},
     "output_type": "execute_result"
    }
   ],
   "source": [
    "import pandas as pd\n",
    "import numpy as np\n",
    "from django_pandas.io import read_frame\n",
    "df = read_frame(a, fieldnames=['data', \n",
    "                                   'atleta', \n",
    "                                   'atleta__faixa', \n",
    "                                   'atleta__academia', \n",
    "                                   'atleta__sexo',\n",
    "                                   'categoria_peso', \n",
    "                                   'valor', \n",
    "                                   'valor_absoluto', \n",
    "                                   'categoria_idade'])\n",
    "pv = df.pivot_table(index=['categoria_idade'], values=['valor'], aggfunc='count', margins=True)\n",
    "pv"
   ]
  },
  {
   "cell_type": "code",
   "execution_count": null,
   "metadata": {},
   "outputs": [],
   "source": []
  }
 ],
 "metadata": {
  "kernelspec": {
   "display_name": "Django Shell-Plus",
   "language": "python",
   "name": "django_extensions"
  },
  "language_info": {
   "codemirror_mode": {
    "name": "ipython",
    "version": 3
   },
   "file_extension": ".py",
   "mimetype": "text/x-python",
   "name": "python",
   "nbconvert_exporter": "python",
   "pygments_lexer": "ipython3",
   "version": "3.6.1"
  }
 },
 "nbformat": 4,
 "nbformat_minor": 2
}
